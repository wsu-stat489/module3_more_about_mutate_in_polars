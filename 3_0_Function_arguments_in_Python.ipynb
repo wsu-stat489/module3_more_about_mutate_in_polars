{
 "cells": [
  {
   "cell_type": "markdown",
   "metadata": {},
   "source": [
    "# Function arguments in Python\n",
    "\n",
    "In this lecture, we will explore the four types of functional arguments in Python, namely\n",
    "\n",
    "1. Position-only arguments (only in Python 3.8--not in Anaconda as of Feb. 2021).\n",
    "    1. *Skipping for now*\n",
    "2. Positional or keyword arguments.\n",
    "3. Varargs (a variable number of extra arguments).\n",
    "4. Keyword only arguments.\n",
    "5. kwargs (a variable number of extra keyword arguments)"
   ]
  },
  {
   "cell_type": "markdown",
   "metadata": {},
   "source": [
    "## Note on position-only arguments.\n",
    "\n",
    "A new type of argument was introduced in Python 3.8, but Anaconda hasn't been upgraded yet due to some incompatibility with certain packages.  We will be ignoring this type of argument for now.  Expect this lecture to be updated in the future."
   ]
  },
  {
   "cell_type": "code",
   "execution_count": 1,
   "metadata": {},
   "outputs": [],
   "source": [
    "import sys"
   ]
  },
  {
   "cell_type": "code",
   "execution_count": 2,
   "metadata": {},
   "outputs": [
    {
     "data": {
      "text/plain": [
       "'3.9.12 (main, Jun  1 2022, 06:34:44) \\n[Clang 12.0.0 ]'"
      ]
     },
     "execution_count": 2,
     "metadata": {},
     "output_type": "execute_result"
    }
   ],
   "source": [
    "sys.version"
   ]
  },
  {
   "cell_type": "markdown",
   "metadata": {},
   "source": [
    "## Position or keyword arguments.\n",
    "\n",
    "The most common type of arguments can be accessed either through their position or as keywords.  Note that Python requires that arguments with a default value follow those that do not."
   ]
  },
  {
   "cell_type": "code",
   "execution_count": 3,
   "metadata": {},
   "outputs": [],
   "source": [
    "def f(pos_or_kw1, pos_or_kw2, pos_or_kw3 = None):\n",
    "    return f\"a1 = {pos_or_kw1}, a2 = {pos_or_kw2}, a3 = {pos_or_kw3}\""
   ]
  },
  {
   "cell_type": "markdown",
   "metadata": {},
   "source": [
    "#### Non-default via position"
   ]
  },
  {
   "cell_type": "code",
   "execution_count": 4,
   "metadata": {},
   "outputs": [
    {
     "data": {
      "text/plain": [
       "'a1 = 1, a2 = 2, a3 = None'"
      ]
     },
     "execution_count": 4,
     "metadata": {},
     "output_type": "execute_result"
    }
   ],
   "source": [
    "f(1, 2)"
   ]
  },
  {
   "cell_type": "markdown",
   "metadata": {},
   "source": [
    "#### Non-default via keyword"
   ]
  },
  {
   "cell_type": "code",
   "execution_count": 5,
   "metadata": {},
   "outputs": [
    {
     "data": {
      "text/plain": [
       "'a1 = 1, a2 = 2, a3 = None'"
      ]
     },
     "execution_count": 5,
     "metadata": {},
     "output_type": "execute_result"
    }
   ],
   "source": [
    "f(pos_or_kw1=1, pos_or_kw2=2)"
   ]
  },
  {
   "cell_type": "markdown",
   "metadata": {},
   "source": [
    "#### keyword arguments can be in any order"
   ]
  },
  {
   "cell_type": "code",
   "execution_count": 6,
   "metadata": {},
   "outputs": [
    {
     "data": {
      "text/plain": [
       "'a1 = 2, a2 = 1, a3 = None'"
      ]
     },
     "execution_count": 6,
     "metadata": {},
     "output_type": "execute_result"
    }
   ],
   "source": [
    "f(pos_or_kw2=1, pos_or_kw1=2)"
   ]
  },
  {
   "cell_type": "markdown",
   "metadata": {},
   "source": [
    "#### Args without defaults are required"
   ]
  },
  {
   "cell_type": "code",
   "execution_count": 7,
   "metadata": {},
   "outputs": [
    {
     "ename": "TypeError",
     "evalue": "f() missing 1 required positional argument: 'pos_or_kw2'",
     "output_type": "error",
     "traceback": [
      "\u001b[0;31m---------------------------------------------------------------------------\u001b[0m",
      "\u001b[0;31mTypeError\u001b[0m                                 Traceback (most recent call last)",
      "Input \u001b[0;32mIn [7]\u001b[0m, in \u001b[0;36m<cell line: 1>\u001b[0;34m()\u001b[0m\n\u001b[0;32m----> 1\u001b[0m \u001b[43mf\u001b[49m\u001b[43m(\u001b[49m\u001b[38;5;241;43m1\u001b[39;49m\u001b[43m)\u001b[49m\n",
      "\u001b[0;31mTypeError\u001b[0m: f() missing 1 required positional argument: 'pos_or_kw2'"
     ]
    }
   ],
   "source": [
    "f(1)"
   ]
  },
  {
   "cell_type": "markdown",
   "metadata": {},
   "source": [
    "#### Default via position"
   ]
  },
  {
   "cell_type": "code",
   "execution_count": 8,
   "metadata": {},
   "outputs": [
    {
     "data": {
      "text/plain": [
       "'a1 = 1, a2 = 2, a3 = 3'"
      ]
     },
     "execution_count": 8,
     "metadata": {},
     "output_type": "execute_result"
    }
   ],
   "source": [
    "f(1, 2, 3)"
   ]
  },
  {
   "cell_type": "markdown",
   "metadata": {},
   "source": [
    "#### Default via keyword"
   ]
  },
  {
   "cell_type": "code",
   "execution_count": 9,
   "metadata": {},
   "outputs": [
    {
     "data": {
      "text/plain": [
       "'a1 = 1, a2 = 2, a3 = 3'"
      ]
     },
     "execution_count": 9,
     "metadata": {},
     "output_type": "execute_result"
    }
   ],
   "source": [
    "f(pos_or_kw1=1, pos_or_kw2=2, pos_or_kw3=3)"
   ]
  },
  {
   "cell_type": "markdown",
   "metadata": {},
   "source": [
    "#### Again keyword arguments can be in any order"
   ]
  },
  {
   "cell_type": "code",
   "execution_count": 10,
   "metadata": {},
   "outputs": [
    {
     "data": {
      "text/plain": [
       "'a1 = 3, a2 = 2, a3 = 1'"
      ]
     },
     "execution_count": 10,
     "metadata": {},
     "output_type": "execute_result"
    }
   ],
   "source": [
    "f(pos_or_kw3=1, pos_or_kw2=2, pos_or_kw1=3)"
   ]
  },
  {
   "cell_type": "markdown",
   "metadata": {},
   "source": [
    "## Varargs\n",
    "\n",
    "We can add a variable number of additional arguments using the `*args` arguments.  The arguments for these additiona entries will be stored in a tuple named `args`.  \n",
    "\n",
    "Note that varargs must follow all position or keyword arguments."
   ]
  },
  {
   "cell_type": "code",
   "execution_count": 11,
   "metadata": {},
   "outputs": [],
   "source": [
    "def g(p_kw1, p_kw2, p_kw3 = None, *args):\n",
    "    return f\"a1 = {p_kw1}, a2 = {p_kw2}, a3 = {p_kw3}, star_args = {args}\""
   ]
  },
  {
   "cell_type": "markdown",
   "metadata": {},
   "source": [
    "#### Positions for defaults are preserved.\n",
    "\n",
    "Note that the third position provides a value to `p_kw3` then the remaining arguments get passed to `args`"
   ]
  },
  {
   "cell_type": "code",
   "execution_count": 12,
   "metadata": {},
   "outputs": [
    {
     "data": {
      "text/plain": [
       "'a1 = 1, a2 = 2, a3 = 3, star_args = (4, 5)'"
      ]
     },
     "execution_count": 12,
     "metadata": {},
     "output_type": "execute_result"
    }
   ],
   "source": [
    "g(1, 2, 3, 4, 5)"
   ]
  },
  {
   "cell_type": "markdown",
   "metadata": {},
   "source": [
    "#### `args` is just another name\n",
    "\n",
    "While it is convential to use `args` in `*args`, the choice of name is up to the programmer."
   ]
  },
  {
   "cell_type": "code",
   "execution_count": 13,
   "metadata": {},
   "outputs": [],
   "source": [
    "def g2(*my_args):\n",
    "    return my_args"
   ]
  },
  {
   "cell_type": "code",
   "execution_count": 14,
   "metadata": {},
   "outputs": [
    {
     "data": {
      "text/plain": [
       "(1, 2, 'a', 'b')"
      ]
     },
     "execution_count": 14,
     "metadata": {},
     "output_type": "execute_result"
    }
   ],
   "source": [
    "g2(1, 2, \"a\", \"b\")"
   ]
  },
  {
   "cell_type": "markdown",
   "metadata": {},
   "source": [
    "## Keyword-only parameters\n",
    "\n",
    "Any parameters defined after `*args` will be deemed *keyword-only* and can only be accessed through keyword-assignment."
   ]
  },
  {
   "cell_type": "code",
   "execution_count": 15,
   "metadata": {},
   "outputs": [],
   "source": [
    "def h(p_kw1, p_kw2, p_kw3 = None, *args, kw_only = \"> Silas\"):\n",
    "    return f\"a1 = {p_kw1}, a2 = {p_kw2}, a3 = {p_kw3}, star_args = {args}, Iverson {kw_only}\""
   ]
  },
  {
   "cell_type": "markdown",
   "metadata": {},
   "source": [
    "#### Using the default value"
   ]
  },
  {
   "cell_type": "code",
   "execution_count": 17,
   "metadata": {},
   "outputs": [
    {
     "data": {
      "text/plain": [
       "'a1 = 1, a2 = 2, a3 = 3, star_args = (4, 5), Iverson > Silas'"
      ]
     },
     "execution_count": 17,
     "metadata": {},
     "output_type": "execute_result"
    }
   ],
   "source": [
    "h(1, 2, 3, 4, 5)"
   ]
  },
  {
   "cell_type": "markdown",
   "metadata": {},
   "source": [
    "#### Changing the default with keyword-assignment"
   ]
  },
  {
   "cell_type": "code",
   "execution_count": 18,
   "metadata": {},
   "outputs": [
    {
     "data": {
      "text/plain": [
       "'a1 = 1, a2 = 2, a3 = 3, star_args = (4, 5), Iverson != Malone'"
      ]
     },
     "execution_count": 18,
     "metadata": {},
     "output_type": "execute_result"
    }
   ],
   "source": [
    "h(1, 2, 3, 4, 5, kw_only = \"!= Malone\")"
   ]
  },
  {
   "cell_type": "markdown",
   "metadata": {},
   "source": [
    "#### Defining keyword-only parameters without varargs.\n",
    "\n",
    "If you would like to define keyword-only parameters **but no varargs**, insert a `*,` after the last `positional or keyword` parameter."
   ]
  },
  {
   "cell_type": "code",
   "execution_count": 19,
   "metadata": {},
   "outputs": [],
   "source": [
    "def h2(p_kw1, p_kw2, p_kw3 = None, *, kw_only = \"> Silas\"):\n",
    "    return f\"a1 = {p_kw1}, a2 = {p_kw2}, a3 = {p_kw3}, Iverson {kw_only}\""
   ]
  },
  {
   "cell_type": "markdown",
   "metadata": {},
   "source": [
    "#### Using both the default value"
   ]
  },
  {
   "cell_type": "code",
   "execution_count": 20,
   "metadata": {},
   "outputs": [
    {
     "data": {
      "text/plain": [
       "'a1 = 1, a2 = 2, a3 = None, Iverson > Silas'"
      ]
     },
     "execution_count": 20,
     "metadata": {},
     "output_type": "execute_result"
    }
   ],
   "source": [
    "h2(1, 2)"
   ]
  },
  {
   "cell_type": "markdown",
   "metadata": {},
   "source": [
    "#### Keeping the default value for `kw_only`"
   ]
  },
  {
   "cell_type": "code",
   "execution_count": 21,
   "metadata": {},
   "outputs": [
    {
     "data": {
      "text/plain": [
       "'a1 = 1, a2 = 2, a3 = 3, Iverson > Silas'"
      ]
     },
     "execution_count": 21,
     "metadata": {},
     "output_type": "execute_result"
    }
   ],
   "source": [
    "h2(1, 2, 3)"
   ]
  },
  {
   "cell_type": "markdown",
   "metadata": {},
   "source": [
    "#### Can't access `kw_only` via a positional argument."
   ]
  },
  {
   "cell_type": "code",
   "execution_count": 22,
   "metadata": {},
   "outputs": [
    {
     "ename": "TypeError",
     "evalue": "h2() takes from 2 to 3 positional arguments but 4 were given",
     "output_type": "error",
     "traceback": [
      "\u001b[0;31m---------------------------------------------------------------------------\u001b[0m",
      "\u001b[0;31mTypeError\u001b[0m                                 Traceback (most recent call last)",
      "Input \u001b[0;32mIn [22]\u001b[0m, in \u001b[0;36m<cell line: 1>\u001b[0;34m()\u001b[0m\n\u001b[0;32m----> 1\u001b[0m \u001b[43mh2\u001b[49m\u001b[43m(\u001b[49m\u001b[38;5;241;43m1\u001b[39;49m\u001b[43m,\u001b[49m\u001b[43m \u001b[49m\u001b[38;5;241;43m2\u001b[39;49m\u001b[43m,\u001b[49m\u001b[43m \u001b[49m\u001b[38;5;241;43m3\u001b[39;49m\u001b[43m,\u001b[49m\u001b[43m \u001b[49m\u001b[38;5;241;43m4\u001b[39;49m\u001b[43m)\u001b[49m\n",
      "\u001b[0;31mTypeError\u001b[0m: h2() takes from 2 to 3 positional arguments but 4 were given"
     ]
    }
   ],
   "source": [
    "h2(1, 2, 3, 4)"
   ]
  },
  {
   "cell_type": "markdown",
   "metadata": {},
   "source": [
    "#### Must use keyword assignment to change `kw_only`"
   ]
  },
  {
   "cell_type": "code",
   "execution_count": 23,
   "metadata": {
    "scrolled": true
   },
   "outputs": [
    {
     "data": {
      "text/plain": [
       "'a1 = 1, a2 = 2, a3 = 3, Iverson < Hooks'"
      ]
     },
     "execution_count": 23,
     "metadata": {},
     "output_type": "execute_result"
    }
   ],
   "source": [
    "h2(1, 2, 3, kw_only=\"< Hooks\")"
   ]
  },
  {
   "cell_type": "markdown",
   "metadata": {},
   "source": [
    "## A variable number of additional keyword arguments\n",
    "\n",
    "Finally, we can use `**kwargs` to gather any number of additional keyword-only arguments.  The resulting values will be stored in a `dict` with keywords as keys and argument values as values.  Again, the `kwargs` name is customary, but can be changed by the programmer."
   ]
  },
  {
   "cell_type": "code",
   "execution_count": 24,
   "metadata": {},
   "outputs": [],
   "source": [
    "def m(p1, p2, *, kw1 = None, **my_kwargs):\n",
    "    return my_kwargs"
   ]
  },
  {
   "cell_type": "code",
   "execution_count": 25,
   "metadata": {},
   "outputs": [
    {
     "data": {
      "text/plain": [
       "{'Iverson': 'Great', 'Bergen': 'likes R'}"
      ]
     },
     "execution_count": 25,
     "metadata": {},
     "output_type": "execute_result"
    }
   ],
   "source": [
    "m(1, 2, Iverson=\"Great\", Bergen=\"likes R\")"
   ]
  },
  {
   "cell_type": "markdown",
   "metadata": {},
   "source": [
    "# Impact on `pipeable` functions\n",
    "\n",
    "When creating `pipeable` functions, we need to make a couple adjustments.\n",
    "\n",
    "1. We **CANNOT** mix `*args` and curried functions, as the function will never complete.\n",
    "    * **Solution.** Add `cols` as a kwarg.\n",
    "2. Consider switching all parameters with default values to keyword-only parameters.\n",
    "3. Use `**kwargs` as a way to allow for variable number of inputs."
   ]
  },
  {
   "cell_type": "code",
   "execution_count": 26,
   "metadata": {},
   "outputs": [
    {
     "name": "stdout",
     "output_type": "stream",
     "text": [
      "Requirement already satisfied: composable in /Users/toddiverson/.pyenv/versions/anaconda3-2022.05/lib/python3.9/site-packages (0.2.5)\r\n",
      "Requirement already satisfied: toolz<0.12.0,>=0.11.1 in /Users/toddiverson/.pyenv/versions/anaconda3-2022.05/lib/python3.9/site-packages (from composable) (0.11.2)\r\n",
      "Requirement already satisfied: python-forge<19.0,>=18.6 in /Users/toddiverson/.pyenv/versions/anaconda3-2022.05/lib/python3.9/site-packages (from composable) (18.6.0)\r\n"
     ]
    }
   ],
   "source": [
    "!pip install composable"
   ]
  },
  {
   "cell_type": "code",
   "execution_count": 38,
   "metadata": {},
   "outputs": [],
   "source": [
    "import pandas as pd\n",
    "from composable import pipeable"
   ]
  },
  {
   "cell_type": "markdown",
   "metadata": {},
   "source": [
    "## Example -- Making a pipeable string `slice`\n",
    "\n",
    "For example, suppose we want to make a pipeable version of `panda`s `str.slice` method.  Before implementing the method, we should make sure we understand the method by constructing a number of examples.  For illustrations sake, I have provided one below."
   ]
  },
  {
   "cell_type": "code",
   "execution_count": 44,
   "metadata": {
    "scrolled": true
   },
   "outputs": [
    {
     "data": {
      "text/plain": [
       "0     1000\n",
       "1     1001\n",
       "2     1002\n",
       "3     1003\n",
       "4     1004\n",
       "5     1005\n",
       "6     1006\n",
       "7     1007\n",
       "8     1008\n",
       "9     1009\n",
       "10    1010\n",
       "dtype: object"
      ]
     },
     "execution_count": 44,
     "metadata": {},
     "output_type": "execute_result"
    }
   ],
   "source": [
    "from composable.strict import map\n",
    "c = pd.Series(map(str, range(1000,1011)))\n",
    "c"
   ]
  },
  {
   "cell_type": "code",
   "execution_count": 50,
   "metadata": {},
   "outputs": [
    {
     "data": {
      "text/plain": [
       "0     000\n",
       "1     001\n",
       "2     002\n",
       "3     003\n",
       "4     004\n",
       "5     005\n",
       "6     006\n",
       "7     007\n",
       "8     008\n",
       "9     009\n",
       "10    010\n",
       "dtype: object"
      ]
     },
     "execution_count": 50,
     "metadata": {},
     "output_type": "execute_result"
    }
   ],
   "source": [
    "c.str.slice(1) #start slice at index 1"
   ]
  },
  {
   "cell_type": "code",
   "execution_count": 51,
   "metadata": {},
   "outputs": [
    {
     "data": {
      "text/plain": [
       "0     00\n",
       "1     00\n",
       "2     00\n",
       "3     00\n",
       "4     00\n",
       "5     00\n",
       "6     00\n",
       "7     00\n",
       "8     00\n",
       "9     00\n",
       "10    01\n",
       "dtype: object"
      ]
     },
     "execution_count": 51,
     "metadata": {},
     "output_type": "execute_result"
    }
   ],
   "source": [
    "c.str.slice(1, 3) # slice from index 1 to 3"
   ]
  },
  {
   "cell_type": "code",
   "execution_count": 56,
   "metadata": {},
   "outputs": [
    {
     "data": {
      "text/plain": [
       "0     10\n",
       "1     10\n",
       "2     10\n",
       "3     10\n",
       "4     10\n",
       "5     10\n",
       "6     10\n",
       "7     10\n",
       "8     10\n",
       "9     10\n",
       "10    11\n",
       "dtype: object"
      ]
     },
     "execution_count": 56,
     "metadata": {},
     "output_type": "execute_result"
    }
   ],
   "source": [
    "c.str.slice(0, 4, 2) # slice from 0 to 4 in steps of 2"
   ]
  },
  {
   "cell_type": "markdown",
   "metadata": {},
   "source": [
    "### Inspecting the signature with `help`\n",
    "\n",
    "Next, we need to inspect the formal parameters and watch out for problems (variable args, position only, position-or-keyword).\n",
    "\n",
    "Inspecting the help for this method shows the following signature.\n",
    "\n",
    "```\n",
    "slice(self, start=None, stop=None, step=None)\n",
    "```"
   ]
  },
  {
   "cell_type": "code",
   "execution_count": null,
   "metadata": {
    "scrolled": true
   },
   "outputs": [],
   "source": [
    "help(pd.Series.str.slice)"
   ]
  },
  {
   "cell_type": "markdown",
   "metadata": {},
   "source": [
    "Since we are switching from a method to a function, `self` will be removed and replaced with an argument for the incoming column, which we will call `col`"
   ]
  },
  {
   "cell_type": "markdown",
   "metadata": {},
   "source": [
    "### Naive approach\n",
    "\n",
    "First, we illustrate the need for careful adjustment of the parameters by naively implementing the original arguments, with the only change being renaming `self` to `col`"
   ]
  },
  {
   "cell_type": "code",
   "execution_count": 48,
   "metadata": {},
   "outputs": [],
   "source": [
    "@pipeable\n",
    "def slice(col, start=None, stop=None, step=None):\n",
    "    return col.str.slice( start = start, stop = stop, step = step)"
   ]
  },
  {
   "cell_type": "code",
   "execution_count": 58,
   "metadata": {},
   "outputs": [
    {
     "ename": "AttributeError",
     "evalue": "'int' object has no attribute 'str'",
     "output_type": "error",
     "traceback": [
      "\u001b[0;31m---------------------------------------------------------------------------\u001b[0m",
      "\u001b[0;31mAttributeError\u001b[0m                            Traceback (most recent call last)",
      "Input \u001b[0;32mIn [58]\u001b[0m, in \u001b[0;36m<cell line: 1>\u001b[0;34m()\u001b[0m\n\u001b[0;32m----> 1\u001b[0m c \u001b[38;5;241m>>\u001b[39m \u001b[38;5;28;43mslice\u001b[39;49m\u001b[43m(\u001b[49m\u001b[38;5;241;43m1\u001b[39;49m\u001b[43m,\u001b[49m\u001b[43m \u001b[49m\u001b[38;5;241;43m3\u001b[39;49m\u001b[43m)\u001b[49m\n",
      "File \u001b[0;32m~/.pyenv/versions/anaconda3-2022.05/lib/python3.9/site-packages/toolz/functoolz.py:306\u001b[0m, in \u001b[0;36mcurry.__call__\u001b[0;34m(self, *args, **kwargs)\u001b[0m\n\u001b[1;32m    304\u001b[0m \u001b[38;5;28;01mdef\u001b[39;00m \u001b[38;5;21m__call__\u001b[39m(\u001b[38;5;28mself\u001b[39m, \u001b[38;5;241m*\u001b[39margs, \u001b[38;5;241m*\u001b[39m\u001b[38;5;241m*\u001b[39mkwargs):\n\u001b[1;32m    305\u001b[0m     \u001b[38;5;28;01mtry\u001b[39;00m:\n\u001b[0;32m--> 306\u001b[0m         \u001b[38;5;28;01mreturn\u001b[39;00m \u001b[38;5;28;43mself\u001b[39;49m\u001b[38;5;241;43m.\u001b[39;49m\u001b[43m_partial\u001b[49m\u001b[43m(\u001b[49m\u001b[38;5;241;43m*\u001b[39;49m\u001b[43margs\u001b[49m\u001b[43m,\u001b[49m\u001b[43m \u001b[49m\u001b[38;5;241;43m*\u001b[39;49m\u001b[38;5;241;43m*\u001b[39;49m\u001b[43mkwargs\u001b[49m\u001b[43m)\u001b[49m\n\u001b[1;32m    307\u001b[0m     \u001b[38;5;28;01mexcept\u001b[39;00m \u001b[38;5;167;01mTypeError\u001b[39;00m \u001b[38;5;28;01mas\u001b[39;00m exc:\n\u001b[1;32m    308\u001b[0m         \u001b[38;5;28;01mif\u001b[39;00m \u001b[38;5;28mself\u001b[39m\u001b[38;5;241m.\u001b[39m_should_curry(args, kwargs, exc):\n",
      "Input \u001b[0;32mIn [48]\u001b[0m, in \u001b[0;36mslice\u001b[0;34m(col, start, stop, step)\u001b[0m\n\u001b[1;32m      1\u001b[0m \u001b[38;5;129m@pipeable\u001b[39m\n\u001b[1;32m      2\u001b[0m \u001b[38;5;28;01mdef\u001b[39;00m \u001b[38;5;21mslice\u001b[39m(col, start\u001b[38;5;241m=\u001b[39m\u001b[38;5;28;01mNone\u001b[39;00m, stop\u001b[38;5;241m=\u001b[39m\u001b[38;5;28;01mNone\u001b[39;00m, step\u001b[38;5;241m=\u001b[39m\u001b[38;5;28;01mNone\u001b[39;00m):\n\u001b[0;32m----> 3\u001b[0m     \u001b[38;5;28;01mreturn\u001b[39;00m \u001b[43mcol\u001b[49m\u001b[38;5;241;43m.\u001b[39;49m\u001b[43mstr\u001b[49m\u001b[38;5;241m.\u001b[39mslice( start \u001b[38;5;241m=\u001b[39m start, stop \u001b[38;5;241m=\u001b[39m stop, step \u001b[38;5;241m=\u001b[39m step)\n",
      "\u001b[0;31mAttributeError\u001b[0m: 'int' object has no attribute 'str'"
     ]
    }
   ],
   "source": [
    "c >> slice(1, 3) # first argument passed to `col` by position."
   ]
  },
  {
   "cell_type": "markdown",
   "metadata": {},
   "source": [
    "### What went wrong?\n",
    "\n",
    "Since the optional arguments are position-or-keyword, they can mess-up the piping as `col` get filled by the first argument and then the actual column gets piped into a later position. \n",
    "\n",
    "### Option 1 -- Make all optional parameters keyword-only\n",
    "\n",
    "One solution is to switch all position-or-keyword arguments to keyword only arguments.  While this leads to longer code--we are forced to write out each argument as a keyword--it could be argued that this also leads to more readable code."
   ]
  },
  {
   "cell_type": "code",
   "execution_count": 64,
   "metadata": {},
   "outputs": [],
   "source": [
    "@pipeable\n",
    "def slice(col, *, start=None, stop=None, step=None):\n",
    "    return col.str.slice(start, stop, step)"
   ]
  },
  {
   "cell_type": "code",
   "execution_count": 65,
   "metadata": {},
   "outputs": [
    {
     "data": {
      "text/plain": [
       "0     00\n",
       "1     00\n",
       "2     00\n",
       "3     00\n",
       "4     00\n",
       "5     00\n",
       "6     00\n",
       "7     00\n",
       "8     00\n",
       "9     00\n",
       "10    01\n",
       "dtype: object"
      ]
     },
     "execution_count": 65,
     "metadata": {},
     "output_type": "execute_result"
    }
   ],
   "source": [
    "c >> slice(start = 1, stop = 3) # second and third digits"
   ]
  },
  {
   "cell_type": "markdown",
   "metadata": {},
   "source": [
    "### Option 2 -- Use position-only arguments\n",
    "\n",
    "The other option is to \n",
    "\n",
    "1. Make all arguments position only\n",
    "2. Move `self/col` to the last position.\n",
    "\n",
    "This has the advantage of removing the required keyword arguments, but the trade-off is a requirement to *alway* specifiy all three arguments."
   ]
  },
  {
   "cell_type": "code",
   "execution_count": null,
   "metadata": {},
   "outputs": [],
   "source": [
    "@pipeable\n",
    "def slice(start, stop, step, col, /):\n",
    "    return col.str.slice(start, stop, step)"
   ]
  },
  {
   "cell_type": "code",
   "execution_count": 62,
   "metadata": {
    "scrolled": true
   },
   "outputs": [
    {
     "data": {
      "text/plain": [
       "0     00\n",
       "1     00\n",
       "2     00\n",
       "3     00\n",
       "4     00\n",
       "5     00\n",
       "6     00\n",
       "7     00\n",
       "8     00\n",
       "9     00\n",
       "10    01\n",
       "dtype: object"
      ]
     },
     "execution_count": 62,
     "metadata": {},
     "output_type": "execute_result"
    }
   ],
   "source": [
    "c >> slice(1,3,1)"
   ]
  },
  {
   "cell_type": "markdown",
   "metadata": {},
   "source": [
    "## Main takeaways\n",
    "\n",
    "The main points are that\n",
    "\n",
    "* position-or-keyword arguments and regular keyword arguments cause problems with piping as they can change the location we pipe into.\n",
    "* var-args never work with piping as we cannot determine when to stop.\n",
    "* position-only, keyword-only, and variable keyword arguments all work well with pipes."
   ]
  }
 ],
 "metadata": {
  "kernelspec": {
   "display_name": "Python 3 (ipykernel)",
   "language": "python",
   "name": "python3"
  },
  "language_info": {
   "codemirror_mode": {
    "name": "ipython",
    "version": 3
   },
   "file_extension": ".py",
   "mimetype": "text/x-python",
   "name": "python",
   "nbconvert_exporter": "python",
   "pygments_lexer": "ipython3",
   "version": "3.9.12"
  }
 },
 "nbformat": 4,
 "nbformat_minor": 4
}
